{
 "cells": [
  {
   "cell_type": "code",
   "execution_count": 23,
   "id": "4515e03a",
   "metadata": {},
   "outputs": [],
   "source": [
    "def zamiana(liczby, mieszkanie1, mieszkanie2):\n",
    "    if len(liczby)<mieszkanie2:\n",
    "        return []\n",
    "\n",
    "    przetrzymywane = liczby[mieszkanie1]\n",
    "    liczby[mieszkanie1] = liczby[mieszkanie2]\n",
    "    liczby[mieszkanie2] = przetrzymywane\n",
    "\n",
    "    return liczby"
   ]
  },
  {
   "cell_type": "code",
   "execution_count": 25,
   "id": "a332ff35",
   "metadata": {},
   "outputs": [
    {
     "name": "stdout",
     "output_type": "stream",
     "text": [
      "[100, 200, 300, 400]\n",
      "[100, 300, 200, 400]\n"
     ]
    }
   ],
   "source": [
    "pudelko_z_liczbami = [100,200,300,400]\n",
    "\n",
    "print(pudelko_z_liczbami)\n",
    "\n",
    "zamienione = zamiana(pudelko_z_liczbami,1,2)\n",
    "\n",
    "print(zamienione)"
   ]
  },
  {
   "cell_type": "code",
   "execution_count": null,
   "id": "26acb3c7",
   "metadata": {},
   "outputs": [
    {
     "name": "stdout",
     "output_type": "stream",
     "text": [
      "[6, 3, 4, 2, 1]\n",
      "[4, 3, 6, 2, 1]\n"
     ]
    }
   ],
   "source": [
    "liczby = [6,3,4,2,1]\n",
    "\n",
    "print(liczby)\n",
    "\n",
    "przetrzymywane = liczby[0]\n",
    "liczby[0] = liczby[2]\n",
    "liczby[2] = przetrzymywane\n",
    "\n",
    "print(liczby)"
   ]
  }
 ],
 "metadata": {
  "kernelspec": {
   "display_name": ".venv",
   "language": "python",
   "name": "python3"
  },
  "language_info": {
   "codemirror_mode": {
    "name": "ipython",
    "version": 3
   },
   "file_extension": ".py",
   "mimetype": "text/x-python",
   "name": "python",
   "nbconvert_exporter": "python",
   "pygments_lexer": "ipython3",
   "version": "3.12.3"
  }
 },
 "nbformat": 4,
 "nbformat_minor": 5
}
