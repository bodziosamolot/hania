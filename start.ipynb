{
 "cells": [
  {
   "cell_type": "code",
   "execution_count": 8,
   "id": "4c3bf9d3",
   "metadata": {},
   "outputs": [
    {
     "name": "stdout",
     "output_type": "stream",
     "text": [
      "hello friend\n"
     ]
    }
   ],
   "source": [
    "x = 'hello '\n",
    "y = 'friend'\n",
    "\n",
    "\n",
    "print(x+y)"
   ]
  },
  {
   "cell_type": "code",
   "execution_count": 10,
   "id": "ebcef7f6",
   "metadata": {},
   "outputs": [
    {
     "name": "stdout",
     "output_type": "stream",
     "text": [
      "12\n"
     ]
    }
   ],
   "source": [
    "x = '1'\n",
    "y = '2'\n",
    "\n",
    "print(x+y)"
   ]
  },
  {
   "cell_type": "code",
   "execution_count": null,
   "id": "dce333a3",
   "metadata": {},
   "outputs": [],
   "source": [
    "names = [\n",
    "    'Maja', 'Martyna', 'Ola', 'Oliwka', 'Hania', 'Agata', 'Agnieszka', 'Aleksandra',\n",
    "    'Alicja', 'Alina', 'Amelia', 'Anastazja', 'Angelika', 'Aniela', 'Anita', 'Anna',\n",
    "    'Antonina', 'Apolonia', 'Ariadna', 'Aurelia', 'Barbara', 'Beata', 'Bogna',\n",
    "    'Bogumiła', 'Bożena', 'Cecylia', 'Celina', 'Czesława', 'Dagmara', 'Danuta',\n",
    "    'Daria', 'Dominika', 'Dorota', 'Edyta', 'Eleonora', 'Eliza', 'Elżbieta',\n",
    "    'Emilia', 'Ewa', 'Ewelina', 'Ernestyna', 'Estera', 'Faustyna', 'Felicja',\n",
    "    'Florentyna', 'Franciszka', 'Gabriela', 'Genowefa', 'Grażyna', 'Greta', 'Gaja',\n",
    "    'Hanna', 'Helena', 'Honorata', 'Iga', 'Ilona', 'Inga', 'Irena', 'Irmina',\n",
    "    'Izabela', 'Iwona', 'Ida', 'Jadwiga', 'Jagoda', 'Janina', 'Joanna', 'Jolanta',\n",
    "    'Jowita', 'Julia', 'Julianna', 'Justyna', 'Kamila', 'Karina', 'Karolina',\n",
    "    'Katarzyna', 'Klaudia', 'Klara', 'Kornelia', 'Krystyna', 'Lidia', 'Liliana',\n",
    "    'Lilianna', 'Lena', 'Laura', 'Lucyna', 'Ludwika', 'Łucja', 'Magdalena',\n",
    "    'Małgorzata', 'Maria', 'Marianna', 'Marika', 'Marta', 'Matylda', 'Melania',\n",
    "    'Michalina', 'Miłosława', 'Milena', 'Monika', 'Natalia', 'Nikola', 'Nina',\n",
    "    'Natasza', 'Nadia', 'Noemi', 'Olga', 'Olimpia', 'Otylia', 'Patrycja', 'Paula',\n",
    "    'Paulina', 'Pola', 'Przemysława', 'Renata', 'Rita', 'Romana', 'Rozalia',\n",
    "    'Sabina', 'Sandra', 'Sara', 'Sonia', 'Stanisława', 'Stefania', 'Sylwia',\n",
    "    'Sławomira', 'Sylwana', 'Tamara', 'Tatiana', 'Teresa', 'Teodora', 'Tola',\n",
    "    'Tosia', 'Urszula', 'Vanessa', 'Violetta', 'Wanda', 'Wiktoria', 'Wioletta',\n",
    "    'Xenia', 'Yvonne', 'Zofia', 'Zuzanna', 'Żaneta', 'Zuzia', 'Adrianna',\n",
    "    'Alwina', 'Amalia', 'Anabela', 'Aneta', 'Bogusława', 'Bronisława', 'Danica',\n",
    "    'Dobrosława', 'Eufrozyna', 'Filipina', 'Honorina', 'Ilda', 'Irma', 'Jadzia',\n",
    "    'Kalina', 'Kaja', 'Kasia', 'Kazimiera', 'Kunegunda', 'Leokadia', 'Leonia',\n",
    "    'Lilia', 'Leonora', 'Luiza', 'Ludmiła', 'Modesta', 'Mieczysława', 'Melisa',\n",
    "    'Marcjanna', 'Nela', 'Nadzieja', 'Oktawia', 'Pelagia', 'Roksana', 'Roxana',\n",
    "    'Sienna', 'Emma', 'Olivia', 'Sophia', 'Isabella', 'Mia', 'Abigail', 'Emily',\n",
    "    'Elizabeth', 'Charlotte', 'Lily', 'Chloe', 'Grace', 'Harper', 'Avery',\n",
    "    'Stella', 'Ellie', 'Nora', 'Leah', 'Hazel'\n",
    "]\n",
    "\n",
    "for name in names:\n",
    "    print('hello ' + name)"
   ]
  },
  {
   "cell_type": "code",
   "execution_count": 16,
   "id": "938847d7",
   "metadata": {},
   "outputs": [
    {
     "name": "stdout",
     "output_type": "stream",
     "text": [
      "to jest kaktus\n",
      "to jest fiołek\n",
      "to jest paprotka\n",
      "to jest storczyk\n",
      "to jest bluszcz\n"
     ]
    }
   ],
   "source": [
    "doniczka=['kaktus', 'fiołek', 'paprotka', 'storczyk', 'bluszcz']\n",
    "\n",
    "for roślina in doniczka:\n",
    "    print('to jest '+ roślina)"
   ]
  },
  {
   "cell_type": "code",
   "execution_count": 28,
   "id": "924682cd",
   "metadata": {},
   "outputs": [
    {
     "name": "stdout",
     "output_type": "stream",
     "text": [
      "0\n"
     ]
    }
   ],
   "source": [
    "a=6\n",
    "\n",
    "print(a%2)"
   ]
  },
  {
   "cell_type": "code",
   "execution_count": 1,
   "id": "6d636078",
   "metadata": {},
   "outputs": [
    {
     "name": "stdout",
     "output_type": "stream",
     "text": [
      "1\n"
     ]
    }
   ],
   "source": [
    "print(1%2)"
   ]
  },
  {
   "cell_type": "code",
   "execution_count": 6,
   "id": "f86ba23c",
   "metadata": {},
   "outputs": [
    {
     "name": "stdout",
     "output_type": "stream",
     "text": [
      "1\n",
      "3\n",
      "5\n",
      "7\n",
      "9\n"
     ]
    }
   ],
   "source": [
    "numbers = [1,\n",
    " 2,\n",
    " 3,\n",
    " 4,\n",
    " 5,\n",
    " 6,\n",
    " 7,\n",
    " 8,\n",
    " 9,\n",
    " 10]\n",
    "\n",
    "for number in numbers:\n",
    "    if number%2==1:\n",
    "        print(number)"
   ]
  },
  {
   "cell_type": "code",
   "execution_count": 3,
   "id": "759bd11a",
   "metadata": {},
   "outputs": [
    {
     "data": {
      "text/plain": [
       "float"
      ]
     },
     "execution_count": 3,
     "metadata": {},
     "output_type": "execute_result"
    }
   ],
   "source": [
    "type(1.3)\n"
   ]
  },
  {
   "cell_type": "code",
   "execution_count": 16,
   "id": "0dc7720d",
   "metadata": {},
   "outputs": [
    {
     "name": "stdout",
     "output_type": "stream",
     "text": [
      "Julia\n"
     ]
    }
   ],
   "source": [
    "# Popular Polish girl names\n",
    "polish_girls = [\n",
    "    'Hania', 'Zosia', 'Julia', 'Lena', 'Maja', 'Alicja', 'Wiktoria',\n",
    "    'Amelia', 'Oliwia', 'Zuzanna', 'Maria', 'Antonina', 'Emilia',\n",
    "    'Natalia', 'Pola', 'Karolina', 'Aleksandra', 'Klara', 'Gabriela',\n",
    "    'Anna', 'Katarzyna', 'Magdalena', 'Marta', 'Paulina']\n",
    "\n",
    "count=0\n",
    "for name in polish_girls:\n",
    "    count=count+1\n",
    "    if count==3: \n",
    "        print(name)\n",
    "    \n"
   ]
  },
  {
   "cell_type": "code",
   "execution_count": 18,
   "id": "1f785b19",
   "metadata": {},
   "outputs": [
    {
     "name": "stdout",
     "output_type": "stream",
     "text": [
      "Julia\n"
     ]
    }
   ],
   "source": [
    "polish_girls = [\n",
    "    'Hania', 'Zosia', 'Julia', 'Lena', 'Maja', 'Alicja', 'Wiktoria',\n",
    "    'Amelia', 'Oliwia', 'Zuzanna', 'Maria', 'Antonina', 'Emilia',\n",
    "    'Natalia', 'Pola', 'Karolina', 'Aleksandra', 'Klara', 'Gabriela',\n",
    "    'Anna', 'Katarzyna', 'Magdalena', 'Marta', 'Paulina']\n",
    "\n",
    "print(polish_girls[2])"
   ]
  }
 ],
 "metadata": {
  "kernelspec": {
   "display_name": ".venv",
   "language": "python",
   "name": "python3"
  },
  "language_info": {
   "codemirror_mode": {
    "name": "ipython",
    "version": 3
   },
   "file_extension": ".py",
   "mimetype": "text/x-python",
   "name": "python",
   "nbconvert_exporter": "python",
   "pygments_lexer": "ipython3",
   "version": "3.12.3"
  }
 },
 "nbformat": 4,
 "nbformat_minor": 5
}
