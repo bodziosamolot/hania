{
 "cells": [
  {
   "cell_type": "code",
   "execution_count": null,
   "id": "b06c95af",
   "metadata": {},
   "outputs": [],
   "source": [
    "def happy():\n",
    "    print(':)') \n"
   ]
  },
  {
   "cell_type": "code",
   "execution_count": 3,
   "id": "f3ba2016",
   "metadata": {},
   "outputs": [],
   "source": [
    "def sad():\n",
    "    print(':(')"
   ]
  },
  {
   "cell_type": "code",
   "execution_count": 10,
   "id": "bc5268bb",
   "metadata": {},
   "outputs": [
    {
     "name": "stdout",
     "output_type": "stream",
     "text": [
      ":)\n",
      ":(\n",
      ":)\n",
      ":(\n",
      ":)\n",
      ":(\n",
      ":)\n",
      ":(\n",
      ":)\n",
      ":(\n",
      ":)\n",
      ":(\n",
      ":)\n",
      ":(\n",
      ":)\n",
      ":(\n",
      ":)\n",
      ":(\n",
      ":)\n",
      ":(\n",
      ":)\n",
      ":(\n",
      ":)\n",
      ":(\n",
      ":)\n",
      ":(\n",
      ":)\n",
      ":(\n",
      ":)\n",
      ":(\n",
      ":)\n",
      ":(\n",
      ":)\n",
      ":(\n",
      ":)\n",
      ":(\n",
      ":)\n",
      ":(\n",
      ":)\n",
      ":(\n",
      ":)\n",
      ":(\n",
      ":)\n",
      ":(\n",
      ":)\n",
      ":(\n",
      ":)\n",
      ":(\n",
      ":)\n",
      ":(\n",
      ":)\n",
      ":(\n",
      ":)\n",
      ":(\n",
      ":)\n",
      ":(\n",
      ":)\n",
      ":(\n",
      ":)\n",
      ":(\n",
      ":)\n",
      ":(\n",
      ":)\n",
      ":(\n",
      ":)\n",
      ":(\n",
      ":)\n",
      ":(\n",
      ":)\n",
      ":(\n",
      ":)\n",
      ":(\n",
      ":)\n",
      ":(\n",
      ":)\n",
      ":(\n",
      ":)\n",
      ":(\n",
      ":)\n",
      ":(\n",
      ":)\n",
      ":(\n",
      ":)\n",
      ":(\n",
      ":)\n",
      ":(\n",
      ":)\n",
      ":(\n",
      ":)\n",
      ":(\n",
      ":)\n",
      ":(\n",
      ":)\n",
      ":(\n",
      ":)\n",
      ":(\n",
      ":)\n",
      ":(\n",
      ":)\n",
      ":(\n"
     ]
    }
   ],
   "source": [
    "for oppa in range(50):\n",
    "    happy()\n",
    "    sad()\n"
   ]
  },
  {
   "cell_type": "code",
   "execution_count": 6,
   "id": "a5dba5e3",
   "metadata": {},
   "outputs": [
    {
     "name": "stdout",
     "output_type": "stream",
     "text": [
      ":(\n"
     ]
    }
   ],
   "source": [
    "sad()"
   ]
  },
  {
   "cell_type": "code",
   "execution_count": 11,
   "id": "9e540023",
   "metadata": {},
   "outputs": [],
   "source": [
    "def add(pierwsza,druga):\n",
    "    return pierwsza + druga"
   ]
  },
  {
   "cell_type": "code",
   "execution_count": 13,
   "id": "873e9c6d",
   "metadata": {},
   "outputs": [
    {
     "name": "stdout",
     "output_type": "stream",
     "text": [
      "4\n"
     ]
    }
   ],
   "source": [
    "suma = add(2,2)\n",
    "\n",
    "print(suma)"
   ]
  },
  {
   "cell_type": "code",
   "execution_count": 15,
   "id": "48a91edf",
   "metadata": {},
   "outputs": [],
   "source": [
    "def multiply(pierwsza,druga):\n",
    "    return pierwsza * druga"
   ]
  },
  {
   "cell_type": "code",
   "execution_count": 16,
   "id": "9e5c20b4",
   "metadata": {},
   "outputs": [
    {
     "name": "stdout",
     "output_type": "stream",
     "text": [
      "15\n"
     ]
    }
   ],
   "source": [
    "iloczyn = multiply(5,3)\n",
    "\n",
    "print(iloczyn)"
   ]
  },
  {
   "cell_type": "code",
   "execution_count": 5,
   "id": "c78f8d38",
   "metadata": {},
   "outputs": [],
   "source": [
    "def pole(a,h):\n",
    "    return 0.5*a*h"
   ]
  },
  {
   "cell_type": "code",
   "execution_count": 7,
   "id": "b13a31d7",
   "metadata": {},
   "outputs": [
    {
     "name": "stdout",
     "output_type": "stream",
     "text": [
      "8.0\n"
     ]
    }
   ],
   "source": [
    "trojkat = pole(4,4)\n",
    "\n",
    "print(trojkat)"
   ]
  },
  {
   "cell_type": "code",
   "execution_count": null,
   "id": "3d503458",
   "metadata": {},
   "outputs": [],
   "source": [
    "def wieksze(wysokosc1,dlugosc1,wysokosc2,dlugosc2):\n",
    "    pole1 = 0.5*wysokosc1*dlugosc1\n",
    "    pole2 = 0.5*wysokosc2*dlugosc2\n",
    "    \n",
    "    if pole1>pole2:\n",
    "        return pole1\n",
    "    elif pole2>pole1:\n",
    "        return pole2"
   ]
  },
  {
   "cell_type": "code",
   "execution_count": null,
   "id": "31be1399",
   "metadata": {},
   "outputs": [],
   "source": []
  }
 ],
 "metadata": {
  "kernelspec": {
   "display_name": ".venv",
   "language": "python",
   "name": "python3"
  },
  "language_info": {
   "codemirror_mode": {
    "name": "ipython",
    "version": 3
   },
   "file_extension": ".py",
   "mimetype": "text/x-python",
   "name": "python",
   "nbconvert_exporter": "python",
   "pygments_lexer": "ipython3",
   "version": "3.12.3"
  }
 },
 "nbformat": 4,
 "nbformat_minor": 5
}
