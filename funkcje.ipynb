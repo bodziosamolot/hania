{
 "cells": [
  {
   "cell_type": "code",
   "execution_count": null,
   "id": "b06c95af",
   "metadata": {},
   "outputs": [],
   "source": [
    "def happy():\n",
    "    print(':)') \n"
   ]
  },
  {
   "cell_type": "code",
   "execution_count": 3,
   "id": "f3ba2016",
   "metadata": {},
   "outputs": [],
   "source": [
    "def sad():\n",
    "    print(':(')"
   ]
  },
  {
   "cell_type": "code",
   "execution_count": 10,
   "id": "bc5268bb",
   "metadata": {},
   "outputs": [
    {
     "name": "stdout",
     "output_type": "stream",
     "text": [
      ":)\n",
      ":(\n",
      ":)\n",
      ":(\n",
      ":)\n",
      ":(\n",
      ":)\n",
      ":(\n",
      ":)\n",
      ":(\n",
      ":)\n",
      ":(\n",
      ":)\n",
      ":(\n",
      ":)\n",
      ":(\n",
      ":)\n",
      ":(\n",
      ":)\n",
      ":(\n",
      ":)\n",
      ":(\n",
      ":)\n",
      ":(\n",
      ":)\n",
      ":(\n",
      ":)\n",
      ":(\n",
      ":)\n",
      ":(\n",
      ":)\n",
      ":(\n",
      ":)\n",
      ":(\n",
      ":)\n",
      ":(\n",
      ":)\n",
      ":(\n",
      ":)\n",
      ":(\n",
      ":)\n",
      ":(\n",
      ":)\n",
      ":(\n",
      ":)\n",
      ":(\n",
      ":)\n",
      ":(\n",
      ":)\n",
      ":(\n",
      ":)\n",
      ":(\n",
      ":)\n",
      ":(\n",
      ":)\n",
      ":(\n",
      ":)\n",
      ":(\n",
      ":)\n",
      ":(\n",
      ":)\n",
      ":(\n",
      ":)\n",
      ":(\n",
      ":)\n",
      ":(\n",
      ":)\n",
      ":(\n",
      ":)\n",
      ":(\n",
      ":)\n",
      ":(\n",
      ":)\n",
      ":(\n",
      ":)\n",
      ":(\n",
      ":)\n",
      ":(\n",
      ":)\n",
      ":(\n",
      ":)\n",
      ":(\n",
      ":)\n",
      ":(\n",
      ":)\n",
      ":(\n",
      ":)\n",
      ":(\n",
      ":)\n",
      ":(\n",
      ":)\n",
      ":(\n",
      ":)\n",
      ":(\n",
      ":)\n",
      ":(\n",
      ":)\n",
      ":(\n",
      ":)\n",
      ":(\n"
     ]
    }
   ],
   "source": [
    "for oppa in range(50):\n",
    "    happy()\n",
    "    sad()\n"
   ]
  },
  {
   "cell_type": "code",
   "execution_count": 6,
   "id": "a5dba5e3",
   "metadata": {},
   "outputs": [
    {
     "name": "stdout",
     "output_type": "stream",
     "text": [
      ":(\n"
     ]
    }
   ],
   "source": [
    "sad()"
   ]
  },
  {
   "cell_type": "code",
   "execution_count": 11,
   "id": "9e540023",
   "metadata": {},
   "outputs": [],
   "source": [
    "def add(pierwsza,druga):\n",
    "    return pierwsza + druga"
   ]
  },
  {
   "cell_type": "code",
   "execution_count": 13,
   "id": "873e9c6d",
   "metadata": {},
   "outputs": [
    {
     "name": "stdout",
     "output_type": "stream",
     "text": [
      "4\n"
     ]
    }
   ],
   "source": [
    "suma = add(2,2)\n",
    "\n",
    "print(suma)"
   ]
  },
  {
   "cell_type": "code",
   "execution_count": 15,
   "id": "48a91edf",
   "metadata": {},
   "outputs": [],
   "source": [
    "def multiply(pierwsza,druga):\n",
    "    return pierwsza * druga"
   ]
  },
  {
   "cell_type": "code",
   "execution_count": 16,
   "id": "9e5c20b4",
   "metadata": {},
   "outputs": [
    {
     "name": "stdout",
     "output_type": "stream",
     "text": [
      "15\n"
     ]
    }
   ],
   "source": [
    "iloczyn = multiply(5,3)\n",
    "\n",
    "print(iloczyn)"
   ]
  },
  {
   "cell_type": "code",
   "execution_count": 22,
   "id": "c78f8d38",
   "metadata": {},
   "outputs": [],
   "source": [
    "def oblicz_pole(a,h):\n",
    "    return 0.5*a*h"
   ]
  },
  {
   "cell_type": "code",
   "execution_count": 24,
   "id": "b13a31d7",
   "metadata": {},
   "outputs": [
    {
     "name": "stdout",
     "output_type": "stream",
     "text": [
      "28.0\n"
     ]
    }
   ],
   "source": [
    "trojkat = oblicz_pole(7, 8)\n",
    "\n",
    "print(trojkat)"
   ]
  },
  {
   "cell_type": "code",
   "execution_count": 12,
   "id": "3d503458",
   "metadata": {},
   "outputs": [],
   "source": [
    "def wieksze(wysokosc1,dlugosc1,wysokosc2,dlugosc2):\n",
    "    pole1 = 0.5*wysokosc1*dlugosc1\n",
    "    pole2 = 0.5*wysokosc2*dlugosc2\n",
    "    \n",
    "    if pole1>pole2:\n",
    "        return pole1\n",
    "    elif pole2>pole1:\n",
    "        return pole2\n",
    "    else:\n",
    "        return 0"
   ]
  },
  {
   "cell_type": "code",
   "execution_count": 25,
   "id": "31be1399",
   "metadata": {},
   "outputs": [
    {
     "name": "stdout",
     "output_type": "stream",
     "text": [
      "0\n"
     ]
    }
   ],
   "source": [
    "pole = wieksze(5,5,5,5)\n",
    "\n",
    "print(pole)"
   ]
  },
  {
   "cell_type": "code",
   "execution_count": 7,
   "id": "00395ea9",
   "metadata": {},
   "outputs": [],
   "source": [
    "def potegowanie(podstawa,wykladnik):\n",
    "    przechowywane = podstawa \n",
    "    for k in range(wykladnik - 1):\n",
    "        przechowywane = podstawa * przechowywane\n",
    "    return przechowywane"
   ]
  },
  {
   "cell_type": "code",
   "execution_count": 8,
   "id": "62610282",
   "metadata": {},
   "outputs": [
    {
     "name": "stdout",
     "output_type": "stream",
     "text": [
      "32\n"
     ]
    }
   ],
   "source": [
    "wynik = potegowanie(2,5)\n",
    "\n",
    "print(wynik) # 32"
   ]
  },
  {
   "cell_type": "code",
   "execution_count": 9,
   "id": "5767080f",
   "metadata": {},
   "outputs": [
    {
     "name": "stdout",
     "output_type": "stream",
     "text": [
      "81\n"
     ]
    }
   ],
   "source": [
    "wynik = potegowanie(3,4)\n",
    "\n",
    "print(wynik)"
   ]
  },
  {
   "cell_type": "code",
   "execution_count": 2,
   "id": "61cadaaf",
   "metadata": {},
   "outputs": [
    {
     "name": "stdout",
     "output_type": "stream",
     "text": [
      "{0, 1, 2, 3, 4}\n"
     ]
    }
   ],
   "source": [
    "kupa = range(5)\n",
    "\n",
    "print(set(kupa))"
   ]
  },
  {
   "cell_type": "code",
   "execution_count": null,
   "id": "99be65ef",
   "metadata": {},
   "outputs": [],
   "source": [
    "def fizzbuzz ()"
   ]
  },
  {
   "cell_type": "code",
   "execution_count": 14,
   "id": "8be0b801",
   "metadata": {},
   "outputs": [
    {
     "name": "stdout",
     "output_type": "stream",
     "text": [
      "1\n",
      "2\n",
      "Fizz\n",
      "4\n",
      "Buzz\n",
      "Fizz\n",
      "7\n",
      "8\n",
      "Fizz\n",
      "Buzz\n",
      "11\n",
      "Fizz\n",
      "13\n",
      "14\n",
      "FizzBuzz\n",
      "16\n",
      "17\n",
      "Fizz\n",
      "19\n",
      "Buzz\n",
      "Fizz\n",
      "22\n",
      "23\n",
      "Fizz\n",
      "Buzz\n",
      "26\n",
      "Fizz\n",
      "28\n",
      "29\n",
      "FizzBuzz\n",
      "31\n",
      "32\n",
      "Fizz\n",
      "34\n",
      "Buzz\n",
      "Fizz\n",
      "37\n",
      "38\n",
      "Fizz\n",
      "Buzz\n",
      "41\n",
      "Fizz\n",
      "43\n",
      "44\n",
      "FizzBuzz\n",
      "46\n",
      "47\n",
      "Fizz\n",
      "49\n",
      "Buzz\n",
      "Fizz\n",
      "52\n",
      "53\n",
      "Fizz\n",
      "Buzz\n",
      "56\n",
      "Fizz\n",
      "58\n",
      "59\n",
      "FizzBuzz\n",
      "61\n",
      "62\n",
      "Fizz\n",
      "64\n",
      "Buzz\n",
      "Fizz\n",
      "67\n",
      "68\n",
      "Fizz\n",
      "Buzz\n",
      "71\n",
      "Fizz\n",
      "73\n",
      "74\n",
      "FizzBuzz\n",
      "76\n",
      "77\n",
      "Fizz\n",
      "79\n",
      "Buzz\n",
      "Fizz\n",
      "82\n",
      "83\n",
      "Fizz\n",
      "Buzz\n",
      "86\n",
      "Fizz\n",
      "88\n",
      "89\n",
      "FizzBuzz\n",
      "91\n",
      "92\n",
      "Fizz\n",
      "94\n",
      "Buzz\n",
      "Fizz\n",
      "97\n",
      "98\n",
      "Fizz\n"
     ]
    }
   ],
   "source": [
    "liczby = range(1,100)\n",
    "\n",
    "for liczba in liczby:\n",
    "    if liczba%3==0 and liczba%5==0:\n",
    "        print(\"FizzBuzz\")\n",
    "    elif liczba%3==0:\n",
    "        print(\"Fizz\")\n",
    "    elif liczba%5==0:\n",
    "        print(\"Buzz\")\n",
    "    \n",
    "    else:\n",
    "        print(liczba)"
   ]
  },
  {
   "cell_type": "code",
   "execution_count": null,
   "id": "1415bc69",
   "metadata": {},
   "outputs": [],
   "source": [
    "kupa = 3\n",
    "\n",
    "if kupa%2==0:\n",
    "    print('OSA')"
   ]
  },
  {
   "cell_type": "code",
   "execution_count": null,
   "id": "ec641812",
   "metadata": {},
   "outputs": [
    {
     "name": "stdout",
     "output_type": "stream",
     "text": [
      "0\n"
     ]
    }
   ],
   "source": [
    "print(9%3)"
   ]
  },
  {
   "cell_type": "code",
   "execution_count": null,
   "id": "9a15fbfb",
   "metadata": {},
   "outputs": [],
   "source": []
  },
  {
   "cell_type": "code",
   "execution_count": null,
   "id": "9acb78cb",
   "metadata": {},
   "outputs": [
    {
     "name": "stdout",
     "output_type": "stream",
     "text": [
      "6\n",
      "5\n",
      "25\n",
      "10\n"
     ]
    }
   ],
   "source": [
    "# Zabezpieczyc przed wpisaniem mniejszej do wiekszej\n",
    "def NWD(wieksza,mniejsza):\n",
    "    reszta = 1\n",
    "    while reszta > 0:\n",
    "        reszta = wieksza % mniejsza\n",
    "        wieksza = mniejsza\n",
    "        mniejsza = reszta\n",
    "    return wieksza\n",
    "\n",
    "wynik = NWD(24,18)\n",
    "print(wynik)\n",
    "\n",
    "wynik = NWD(100,5)\n",
    "print(wynik)\n",
    "\n",
    "wynik = NWD(100,75)\n",
    "print(wynik)\n",
    "\n",
    "wynik = NWD(60, 50)\n",
    "print(wynik)\n",
    "        "
   ]
  },
  {
   "cell_type": "code",
   "execution_count": null,
   "id": "284ffbad",
   "metadata": {},
   "outputs": [],
   "source": [
    "def szyfruj(tekst):"
   ]
  }
 ],
 "metadata": {
  "kernelspec": {
   "display_name": ".venv",
   "language": "python",
   "name": "python3"
  },
  "language_info": {
   "codemirror_mode": {
    "name": "ipython",
    "version": 3
   },
   "file_extension": ".py",
   "mimetype": "text/x-python",
   "name": "python",
   "nbconvert_exporter": "python",
   "pygments_lexer": "ipython3",
   "version": "3.12.3"
  }
 },
 "nbformat": 4,
 "nbformat_minor": 5
}
