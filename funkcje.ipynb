{
 "cells": [
  {
   "cell_type": "code",
   "execution_count": null,
   "id": "b06c95af",
   "metadata": {},
   "outputs": [],
   "source": [
    "def happy():\n",
    "    print(':)') \n"
   ]
  },
  {
   "cell_type": "code",
   "execution_count": 3,
   "id": "f3ba2016",
   "metadata": {},
   "outputs": [],
   "source": [
    "def sad():\n",
    "    print(':(')"
   ]
  },
  {
   "cell_type": "code",
   "execution_count": 10,
   "id": "bc5268bb",
   "metadata": {},
   "outputs": [
    {
     "name": "stdout",
     "output_type": "stream",
     "text": [
      ":)\n",
      ":(\n",
      ":)\n",
      ":(\n",
      ":)\n",
      ":(\n",
      ":)\n",
      ":(\n",
      ":)\n",
      ":(\n",
      ":)\n",
      ":(\n",
      ":)\n",
      ":(\n",
      ":)\n",
      ":(\n",
      ":)\n",
      ":(\n",
      ":)\n",
      ":(\n",
      ":)\n",
      ":(\n",
      ":)\n",
      ":(\n",
      ":)\n",
      ":(\n",
      ":)\n",
      ":(\n",
      ":)\n",
      ":(\n",
      ":)\n",
      ":(\n",
      ":)\n",
      ":(\n",
      ":)\n",
      ":(\n",
      ":)\n",
      ":(\n",
      ":)\n",
      ":(\n",
      ":)\n",
      ":(\n",
      ":)\n",
      ":(\n",
      ":)\n",
      ":(\n",
      ":)\n",
      ":(\n",
      ":)\n",
      ":(\n",
      ":)\n",
      ":(\n",
      ":)\n",
      ":(\n",
      ":)\n",
      ":(\n",
      ":)\n",
      ":(\n",
      ":)\n",
      ":(\n",
      ":)\n",
      ":(\n",
      ":)\n",
      ":(\n",
      ":)\n",
      ":(\n",
      ":)\n",
      ":(\n",
      ":)\n",
      ":(\n",
      ":)\n",
      ":(\n",
      ":)\n",
      ":(\n",
      ":)\n",
      ":(\n",
      ":)\n",
      ":(\n",
      ":)\n",
      ":(\n",
      ":)\n",
      ":(\n",
      ":)\n",
      ":(\n",
      ":)\n",
      ":(\n",
      ":)\n",
      ":(\n",
      ":)\n",
      ":(\n",
      ":)\n",
      ":(\n",
      ":)\n",
      ":(\n",
      ":)\n",
      ":(\n",
      ":)\n",
      ":(\n",
      ":)\n",
      ":(\n"
     ]
    }
   ],
   "source": [
    "for oppa in range(50):\n",
    "    happy()\n",
    "    sad()\n"
   ]
  },
  {
   "cell_type": "code",
   "execution_count": 6,
   "id": "a5dba5e3",
   "metadata": {},
   "outputs": [
    {
     "name": "stdout",
     "output_type": "stream",
     "text": [
      ":(\n"
     ]
    }
   ],
   "source": [
    "sad()"
   ]
  },
  {
   "cell_type": "code",
   "execution_count": 11,
   "id": "9e540023",
   "metadata": {},
   "outputs": [],
   "source": [
    "def add(pierwsza,druga):\n",
    "    return pierwsza + druga"
   ]
  },
  {
   "cell_type": "code",
   "execution_count": 13,
   "id": "873e9c6d",
   "metadata": {},
   "outputs": [
    {
     "name": "stdout",
     "output_type": "stream",
     "text": [
      "4\n"
     ]
    }
   ],
   "source": [
    "suma = add(2,2)\n",
    "\n",
    "print(suma)"
   ]
  },
  {
   "cell_type": "code",
   "execution_count": 15,
   "id": "48a91edf",
   "metadata": {},
   "outputs": [],
   "source": [
    "def multiply(pierwsza,druga):\n",
    "    return pierwsza * druga"
   ]
  },
  {
   "cell_type": "code",
   "execution_count": 16,
   "id": "9e5c20b4",
   "metadata": {},
   "outputs": [
    {
     "name": "stdout",
     "output_type": "stream",
     "text": [
      "15\n"
     ]
    }
   ],
   "source": [
    "iloczyn = multiply(5,3)\n",
    "\n",
    "print(iloczyn)"
   ]
  }
 ],
 "metadata": {
  "kernelspec": {
   "display_name": ".venv",
   "language": "python",
   "name": "python3"
  },
  "language_info": {
   "codemirror_mode": {
    "name": "ipython",
    "version": 3
   },
   "file_extension": ".py",
   "mimetype": "text/x-python",
   "name": "python",
   "nbconvert_exporter": "python",
   "pygments_lexer": "ipython3",
   "version": "3.12.3"
  }
 },
 "nbformat": 4,
 "nbformat_minor": 5
}
