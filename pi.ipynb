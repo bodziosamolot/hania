{
 "cells": [
  {
   "cell_type": "code",
   "execution_count": 4,
   "id": "60fe2eda",
   "metadata": {},
   "outputs": [
    {
     "data": {
      "text/plain": [
       "[0, 1, 2, 3, 4, 5, 6, 7, 8, 9, 10, 11, 12, 13, 14, 15, 16, 17, 18, 19]"
      ]
     },
     "execution_count": 4,
     "metadata": {},
     "output_type": "execute_result"
    }
   ],
   "source": [
    "liczby = range(20)\n",
    "\n",
    "list(liczby)"
   ]
  },
  {
   "cell_type": "code",
   "execution_count": 13,
   "id": "c48838ef",
   "metadata": {},
   "outputs": [
    {
     "name": "stdout",
     "output_type": "stream",
     "text": [
      "3.1415927535897064\n"
     ]
    }
   ],
   "source": [
    "liczby = range(10000000)\n",
    "mianownik = 1\n",
    "suma = 0 \n",
    "for kolejna_liczba in liczby:\n",
    "    mianownik = mianownik + 2\n",
    "    ulamek = 1/mianownik\n",
    "    \n",
    "    if kolejna_liczba%2==0:\n",
    "        ulamek = ulamek - ulamek * 2\n",
    "    suma = suma + ulamek\n",
    "pi = 4 + 4 * suma\n",
    "print(pi)"
   ]
  },
  {
   "cell_type": "code",
   "execution_count": null,
   "id": "96545609",
   "metadata": {},
   "outputs": [],
   "source": [
    "3.14159265359 # google\n",
    "3.1415927535897064 # nasze"
   ]
  },
  {
   "cell_type": "code",
   "execution_count": 10,
   "id": "be322912",
   "metadata": {},
   "outputs": [
    {
     "name": "stdout",
     "output_type": "stream",
     "text": [
      "9223372036854775807\n"
     ]
    }
   ],
   "source": [
    "import sys\n",
    "print(sys.maxsize)"
   ]
  }
 ],
 "metadata": {
  "kernelspec": {
   "display_name": ".venv",
   "language": "python",
   "name": "python3"
  },
  "language_info": {
   "codemirror_mode": {
    "name": "ipython",
    "version": 3
   },
   "file_extension": ".py",
   "mimetype": "text/x-python",
   "name": "python",
   "nbconvert_exporter": "python",
   "pygments_lexer": "ipython3",
   "version": "3.12.3"
  }
 },
 "nbformat": 4,
 "nbformat_minor": 5
}
