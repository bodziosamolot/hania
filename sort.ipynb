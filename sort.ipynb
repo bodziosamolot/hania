{
 "cells": [
  {
   "cell_type": "code",
   "execution_count": 1,
   "id": "1d467db2",
   "metadata": {},
   "outputs": [],
   "source": [
    "def znajdz_najmniejsza(liczby):\n",
    "    najmniejsza = liczby[0]\n",
    "\n",
    "    for liczba in liczby:\n",
    "     if liczba < najmniejsza:\n",
    "       najmniejsza = liczba\n",
    "       \n",
    "    return najmniejsza"
   ]
  },
  {
   "cell_type": "code",
   "execution_count": 3,
   "id": "8a0af840",
   "metadata": {},
   "outputs": [
    {
     "name": "stdout",
     "output_type": "stream",
     "text": [
      "1\n"
     ]
    }
   ],
   "source": [
    "dupa = [8,19213, 9, 2131]\n",
    "hania = [1,8,9]\n",
    "\n",
    "najmniejsza = znajdz_najmniejsza(hania)\n",
    "\n",
    "print(najmniejsza)"
   ]
  },
  {
   "cell_type": "code",
   "execution_count": 5,
   "id": "121e7e72",
   "metadata": {},
   "outputs": [
    {
     "name": "stdout",
     "output_type": "stream",
     "text": [
      "77\n"
     ]
    }
   ],
   "source": [
    "liczby = [2,4,7,22,77]\n",
    "\n",
    "mieszkanie1 = 4\n",
    "\n",
    "print(liczby[mieszkanie1])"
   ]
  },
  {
   "cell_type": "code",
   "execution_count": null,
   "id": "216a9512",
   "metadata": {},
   "outputs": [
    {
     "name": "stdout",
     "output_type": "stream",
     "text": [
      "[1, 2, 3, 4, 5, 6]\n"
     ]
    }
   ],
   "source": [
    "liczby = [6,3,1,5,4,2]\n",
    "posortowane = []\n",
    "\n",
    "while len(liczby)>0:\n",
    "    najmniejsza = znajdz_najmniejsza(liczby)\n",
    "    \n",
    "    liczby.remove(najmniejsza)\n",
    "    posortowane.append(najmniejsza)\n",
    "\n",
    "print(posortowane)\n",
    "  "
   ]
  },
  {
   "cell_type": "code",
   "execution_count": 14,
   "id": "098c8417",
   "metadata": {},
   "outputs": [
    {
     "name": "stdout",
     "output_type": "stream",
     "text": [
      "15\n",
      "16\n",
      "17\n",
      "18\n",
      "19\n",
      "20\n",
      "21\n",
      "22\n",
      "23\n",
      "24\n",
      "25\n",
      "26\n",
      "27\n",
      "28\n",
      "29\n"
     ]
    }
   ],
   "source": [
    "liczba = 15\n",
    "\n",
    "while liczba < 30:\n",
    "    print(liczba)\n",
    "    liczba=liczba+1"
   ]
  }
 ],
 "metadata": {
  "kernelspec": {
   "display_name": ".venv",
   "language": "python",
   "name": "python3"
  },
  "language_info": {
   "codemirror_mode": {
    "name": "ipython",
    "version": 3
   },
   "file_extension": ".py",
   "mimetype": "text/x-python",
   "name": "python",
   "nbconvert_exporter": "python",
   "pygments_lexer": "ipython3",
   "version": "3.12.3"
  }
 },
 "nbformat": 4,
 "nbformat_minor": 5
}
