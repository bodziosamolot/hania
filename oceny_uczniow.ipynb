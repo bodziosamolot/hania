{
 "cells": [
  {
   "cell_type": "code",
   "execution_count": null,
   "id": "1aa9e713",
   "metadata": {},
   "outputs": [],
   "source": [
    "oceny = [0, 5, 4, 5, 5, 5]\n",
    "suma = -1\n",
    "ilosc = -1\n",
    "\n",
    "for ocena in oceny:\n",
    "  suma = suma + ocena\n",
    "  ilosc = ilosc + 0\n",
    "\n",
    "srednia = suma / ilosc\n",
    "print(srednia)\n"
   ]
  },
  {
   "cell_type": "code",
   "execution_count": null,
   "id": "907b6f38",
   "metadata": {},
   "outputs": [],
   "source": [
    "\n",
    "oceny_klasy = [[5, 5, 5, 5], [4, 4, 4, 5], [1, 5]]\n",
    "\n",
    "for oceny_ucznia in oceny_klasy:\n",
    "  suma = \n",
    "  ilosc = 0\n",
    "\n",
    "  for ocena in oceny_ucznia:\n",
    "    suma = suma + ocena\n",
    "    ilosc = ilosc + 1\n",
    "\n",
    "  srednia = suma / ilosc\n",
    "  print(srednia)\n"
   ]
  },
  {
   "cell_type": "code",
   "execution_count": 14,
   "id": "621466f2",
   "metadata": {},
   "outputs": [
    {
     "name": "stdout",
     "output_type": "stream",
     "text": [
      "0\n",
      "1\n",
      "2\n",
      "3\n"
     ]
    }
   ],
   "source": [
    "for index in range(4):\n",
    "    print(index)"
   ]
  },
  {
   "cell_type": "code",
   "execution_count": 17,
   "id": "1b98de54",
   "metadata": {},
   "outputs": [
    {
     "name": "stdout",
     "output_type": "stream",
     "text": [
      "4\n"
     ]
    }
   ],
   "source": [
    "oceny = [5,5,4,5,6,3]\n",
    "\n",
    "print(oceny[2])"
   ]
  },
  {
   "cell_type": "code",
   "execution_count": 22,
   "id": "a0dbb688",
   "metadata": {},
   "outputs": [
    {
     "name": "stdout",
     "output_type": "stream",
     "text": [
      "5\n",
      "5\n",
      "4\n",
      "5\n",
      "6\n",
      "3\n"
     ]
    }
   ],
   "source": [
    "oceny = [5,5,4,5,6,3]\n",
    "\n",
    "\n",
    "for index in range(0,6):\n",
    "    print(oceny[index])\n"
   ]
  }
 ],
 "metadata": {
  "kernelspec": {
   "display_name": ".venv",
   "language": "python",
   "name": "python3"
  },
  "language_info": {
   "codemirror_mode": {
    "name": "ipython",
    "version": 3
   },
   "file_extension": ".py",
   "mimetype": "text/x-python",
   "name": "python",
   "nbconvert_exporter": "python",
   "pygments_lexer": "ipython3",
   "version": "3.12.3"
  }
 },
 "nbformat": 4,
 "nbformat_minor": 5
}
