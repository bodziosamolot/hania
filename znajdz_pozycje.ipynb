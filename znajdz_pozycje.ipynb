{
 "cells": [
  {
   "cell_type": "code",
   "execution_count": 8,
   "id": "26899ad0",
   "metadata": {},
   "outputs": [
    {
     "name": "stdout",
     "output_type": "stream",
     "text": [
      "2\n",
      "3\n"
     ]
    }
   ],
   "source": [
    "liczby = [1,2,3,3,4,5]\n",
    "szukana_liczba = 3\n",
    "pozycja = 0\n",
    "wynik = 'nie znalazlem'\n",
    "\n",
    "for liczba in liczby:\n",
    "    if liczba==szukana_liczba:\n",
    "        wynik = pozycja\n",
    "        print(wynik)\n",
    "    pozycja = pozycja + 1\n"
   ]
  }
 ],
 "metadata": {
  "kernelspec": {
   "display_name": ".venv",
   "language": "python",
   "name": "python3"
  },
  "language_info": {
   "codemirror_mode": {
    "name": "ipython",
    "version": 3
   },
   "file_extension": ".py",
   "mimetype": "text/x-python",
   "name": "python",
   "nbconvert_exporter": "python",
   "pygments_lexer": "ipython3",
   "version": "3.12.3"
  }
 },
 "nbformat": 4,
 "nbformat_minor": 5
}
