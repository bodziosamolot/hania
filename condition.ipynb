{
 "cells": [
  {
   "cell_type": "code",
   "execution_count": null,
   "id": "ffd520d5",
   "metadata": {},
   "outputs": [],
   "source": [
    "if 2==2:\n",
    "    print('Hania')"
   ]
  },
  {
   "cell_type": "code",
   "execution_count": 13,
   "id": "60aefed0",
   "metadata": {},
   "outputs": [],
   "source": [
    "if False:\n",
    "    print('dupa')"
   ]
  },
  {
   "cell_type": "code",
   "execution_count": null,
   "id": "069e1321",
   "metadata": {},
   "outputs": [
    {
     "ename": "TypeError",
     "evalue": "can only concatenate str (not \"int\") to str",
     "output_type": "error",
     "traceback": [
      "\u001b[31m---------------------------------------------------------------------------\u001b[39m",
      "\u001b[31mTypeError\u001b[39m                                 Traceback (most recent call last)",
      "\u001b[36mCell\u001b[39m\u001b[36m \u001b[39m\u001b[32mIn[8]\u001b[39m\u001b[32m, line 4\u001b[39m\n\u001b[32m      1\u001b[39m a = \u001b[33m'\u001b[39m\u001b[33mTata\u001b[39m\u001b[33m'\u001b[39m \u001b[38;5;66;03m# string\u001b[39;00m\n\u001b[32m      2\u001b[39m b = \u001b[32m2\u001b[39m      \u001b[38;5;66;03m# int \u001b[39;00m\n\u001b[32m----> \u001b[39m\u001b[32m4\u001b[39m c = \u001b[43ma\u001b[49m\u001b[43m \u001b[49m\u001b[43m+\u001b[49m\u001b[43m \u001b[49m\u001b[43mb\u001b[49m\n\u001b[32m      6\u001b[39m \u001b[38;5;28mprint\u001b[39m(c)\n",
      "\u001b[31mTypeError\u001b[39m: can only concatenate str (not \"int\") to str"
     ]
    }
   ],
   "source": [
    "a = 'Tata' # string\n",
    "b = 2      # int \n",
    "c = True   # bool  True, False\n",
    "\n",
    "c = a + b\n",
    "\n",
    "print(c)"
   ]
  },
  {
   "cell_type": "code",
   "execution_count": 19,
   "id": "0820ea7b",
   "metadata": {},
   "outputs": [
    {
     "name": "stdout",
     "output_type": "stream",
     "text": [
      "siku\n"
     ]
    }
   ],
   "source": [
    "siku='siku'\n",
    "\n",
    "if 3==4:\n",
    "    print('kupa')\n",
    "else:\n",
    "    print(siku)"
   ]
  },
  {
   "cell_type": "code",
   "execution_count": 3,
   "id": "31064148",
   "metadata": {},
   "outputs": [
    {
     "name": "stdout",
     "output_type": "stream",
     "text": [
      "Wiktoria\n",
      "Zuzanna\n",
      "Antonina\n",
      "Lilianna\n",
      "Natalia\n",
      "Karolina\n",
      "Aleksandra\n",
      "Gabriela\n",
      "Katarzyna\n",
      "Magdalena\n",
      "Barbara\n",
      "Justyna\n",
      "Agnieszka\n",
      "Izabela\n",
      "Paulina\n"
     ]
    }
   ],
   "source": [
    "polish_girl_names = [\n",
    "    'Hania', 'Zosia', 'Julia', 'Lena', 'Maja', 'Alicja', 'Wiktoria', \n",
    "    'Amelia', 'Oliwia', 'Zuzanna', 'Maria', 'Antonina', 'Lilianna',\n",
    "    'Emilia', 'Natalia', 'Pola', 'Karolina', 'Aleksandra', 'Klara',\n",
    "    'Gabriela', 'Nadia', 'Iga', 'Kinga', 'Agata', 'Katarzyna',\n",
    "    'Magdalena', 'Anna', 'Barbara', 'Dorota', 'Ewa', 'Justyna',\n",
    "    'Monika', 'Beata', 'Agnieszka', 'Izabela', 'Marta', 'Paulina'\n",
    "]\n",
    "\n",
    "for name in polish_girl_names:\n",
    "    if len(name)>6:\n",
    "        print(name)"
   ]
  },
  {
   "cell_type": "code",
   "execution_count": 6,
   "id": "42844312",
   "metadata": {},
   "outputs": [
    {
     "name": "stdout",
     "output_type": "stream",
     "text": [
      "False\n"
     ]
    }
   ],
   "source": [
    "print(len('Alicja')>6)"
   ]
  },
  {
   "cell_type": "code",
   "execution_count": 7,
   "id": "2f3f666b",
   "metadata": {},
   "outputs": [
    {
     "name": "stdout",
     "output_type": "stream",
     "text": [
      "6\n"
     ]
    }
   ],
   "source": [
    "print(len('Alicja'))"
   ]
  },
  {
   "cell_type": "code",
   "execution_count": 5,
   "id": "1c48fe1d",
   "metadata": {},
   "outputs": [
    {
     "name": "stdout",
     "output_type": "stream",
     "text": [
      "False\n"
     ]
    }
   ],
   "source": [
    "print(6>6)"
   ]
  },
  {
   "cell_type": "code",
   "execution_count": null,
   "id": "e4fa999f",
   "metadata": {},
   "outputs": [
    {
     "name": "stdout",
     "output_type": "stream",
     "text": [
      "Random integer numbers: [72, 29, -27, -29, -26, -55, 42, 78, -21, -71, 66, -8, -31, 55, 73]\n",
      "-27\n",
      "dupa\n",
      "pupa\n",
      "-29\n",
      "dupa\n",
      "pupa\n",
      "-26\n",
      "dupa\n",
      "pupa\n",
      "-55\n",
      "dupa\n",
      "pupa\n",
      "-21\n",
      "dupa\n",
      "pupa\n",
      "-71\n",
      "dupa\n",
      "pupa\n",
      "-8\n",
      "dupa\n",
      "pupa\n",
      "-31\n",
      "dupa\n",
      "pupa\n"
     ]
    }
   ],
   "source": [
    "import random\n",
    "\n",
    "# Generate an array of random integer numbers (positive and negative)\n",
    "random_numbers = [random.randint(-100, 100) for _ in range(15)]\n",
    "\n",
    "print(\"Random integer numbers:\", random_numbers)\n",
    "\n",
    "for number in random_numbers:\n",
    "    if number<0:\n",
    "      print(number)"
   ]
  },
  {
   "cell_type": "code",
   "execution_count": null,
   "id": "a0bbbf20",
   "metadata": {},
   "outputs": [
    {
     "name": "stdout",
     "output_type": "stream",
     "text": [
      "Hania \n"
     ]
    }
   ],
   "source": [
    "all_names = ''\n",
    "all_names = all_names + 'Hania '\n",
    "\n",
    "print(all_names)\n",
    "\n",
    "print = all_names + 'Kasia '"
   ]
  },
  {
   "cell_type": "code",
   "execution_count": null,
   "id": "26a679e7",
   "metadata": {},
   "outputs": [],
   "source": [
    "import random\n",
    "\n",
    "# Generate an array of random integer numbers (positive and negative)\n",
    "random_numbers = [random.randint(-100, 100) for _ in range(15)]\n",
    "\n",
    "print(\"Random integer numbers:\", random_numbers) \n",
    "\n",
    "\n"
   ]
  }
 ],
 "metadata": {
  "kernelspec": {
   "display_name": ".venv",
   "language": "python",
   "name": "python3"
  },
  "language_info": {
   "codemirror_mode": {
    "name": "ipython",
    "version": 3
   },
   "file_extension": ".py",
   "mimetype": "text/x-python",
   "name": "python",
   "nbconvert_exporter": "python",
   "pygments_lexer": "ipython3",
   "version": "3.12.3"
  }
 },
 "nbformat": 4,
 "nbformat_minor": 5
}
