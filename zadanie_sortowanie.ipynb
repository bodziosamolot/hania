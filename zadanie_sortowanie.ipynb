{
 "cells": [
  {
   "cell_type": "code",
   "execution_count": 17,
   "id": "7089a025",
   "metadata": {},
   "outputs": [
    {
     "name": "stdout",
     "output_type": "stream",
     "text": [
      "posortowane\n"
     ]
    }
   ],
   "source": [
    "liczby = [1,2,3,4,5]\n",
    "ile_liczb = len(liczby)\n",
    "pozycja = 0 \n",
    "\n",
    "for liczba in liczby:\n",
    "    if pozycja == ile_liczb-1:\n",
    "        break\n",
    "    \n",
    "    nastepna_liczba = liczby[pozycja+1]\n",
    "    pozycja = pozycja +1\n",
    "    \n",
    "    if nastepna_liczba<liczba:\n",
    "        print(\"nieposortowane\")\n",
    "        break\n",
    "\n",
    "print(\"posortowane\")\n",
    "    "
   ]
  },
  {
   "cell_type": "code",
   "execution_count": 15,
   "id": "96017f04",
   "metadata": {},
   "outputs": [
    {
     "name": "stdout",
     "output_type": "stream",
     "text": [
      "3\n",
      "Martyna\n"
     ]
    }
   ],
   "source": [
    "kolezanki = ['Hania', 'Maja', 'Martyna']\n",
    "ile_kolezanek = len(kolezanki)\n",
    "\n",
    "print(ile_kolezanek)\n",
    "print(kolezanki[2])"
   ]
  },
  {
   "cell_type": "code",
   "execution_count": null,
   "id": "3dc7d3f9",
   "metadata": {},
   "outputs": [],
   "source": [
    "\n"
   ]
  }
 ],
 "metadata": {
  "kernelspec": {
   "display_name": ".venv",
   "language": "python",
   "name": "python3"
  },
  "language_info": {
   "codemirror_mode": {
    "name": "ipython",
    "version": 3
   },
   "file_extension": ".py",
   "mimetype": "text/x-python",
   "name": "python",
   "nbconvert_exporter": "python",
   "pygments_lexer": "ipython3",
   "version": "3.12.3"
  }
 },
 "nbformat": 4,
 "nbformat_minor": 5
}
