{
 "cells": [
  {
   "cell_type": "code",
   "execution_count": null,
   "id": "10144de3",
   "metadata": {},
   "outputs": [
    {
     "ename": "IndentationError",
     "evalue": "unexpected indent (3002237848.py, line 1)",
     "output_type": "error",
     "traceback": [
      "  \u001b[36mCell\u001b[39m\u001b[36m \u001b[39m\u001b[32mIn[6]\u001b[39m\u001b[32m, line 1\u001b[39m\n\u001b[31m    \u001b[39m\u001b[31m/\\\u001b[39m\n    ^\n\u001b[31mIndentationError\u001b[39m\u001b[31m:\u001b[39m unexpected indent\n"
     ]
    }
   ],
   "source": [
    "        /\\\n",
    "       /  \\\n",
    "      /    \\\n",
    "     /      \\\n",
    "      /    \\\n",
    "     /      \\\n",
    "    /        \\\n",
    "   /          \\\n",
    "    /        \\\n",
    "   /          \\\n",
    "  /            \\\n",
    "       |   |"
   ]
  },
  {
   "cell_type": "code",
   "execution_count": 38,
   "id": "be2da8e8",
   "metadata": {},
   "outputs": [
    {
     "name": "stdout",
     "output_type": "stream",
     "text": [
      "          /\\\n",
      "         /  \\\n",
      "         /  \\\n",
      "        /    \\\n",
      "       /      \\\n",
      "      /        \\\n",
      "      /        \\\n",
      "     /          \\\n",
      "    /            \\\n",
      "   /              \\\n",
      "   /              \\\n",
      "  /                \\\n",
      " /                  \\\n",
      "/                    \\\n"
     ]
    }
   ],
   "source": [
    "przerwa = ''\n",
    "margines = '          '\n",
    "linia = margines +'/'+przerwa+'\\\\'\n",
    "\n",
    "for dupa in range(14):\n",
    "    przerwa = przerwa + '  '\n",
    "    margines = margines[:-1]\n",
    "    print(linia)\n",
    "    linia = margines +'/'+przerwa+'\\\\'\n",
    "    \n",
    "    if dupa%4==0:\n",
    "        przerwa = przerwa[:-2]\n",
    "        margines = margines + ' '"
   ]
  }
 ],
 "metadata": {
  "kernelspec": {
   "display_name": ".venv",
   "language": "python",
   "name": "python3"
  },
  "language_info": {
   "codemirror_mode": {
    "name": "ipython",
    "version": 3
   },
   "file_extension": ".py",
   "mimetype": "text/x-python",
   "name": "python",
   "nbconvert_exporter": "python",
   "pygments_lexer": "ipython3",
   "version": "3.12.3"
  }
 },
 "nbformat": 4,
 "nbformat_minor": 5
}
