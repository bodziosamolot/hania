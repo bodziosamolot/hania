{
 "cells": [
  {
   "cell_type": "code",
   "execution_count": 8,
   "id": "e30bdf79",
   "metadata": {},
   "outputs": [
    {
     "name": "stdout",
     "output_type": "stream",
     "text": [
      "51000.0\n",
      "52530.0\n",
      "50428.8\n",
      "52950.240000000005\n",
      "53479.7424\n"
     ]
    }
   ],
   "source": [
    "# Oszczedzamy 5 lat\n",
    "# 1 rok - zysk 0.02\n",
    "# 2 rok - zysk 0.03\n",
    "# 3 rok - strata 0.04\n",
    "# 4 rok - zysk 0.05\n",
    "# 5 rok - zysk 0.01\n",
    "\n",
    "\n",
    "zyski_na_rok = [0.02,0.03,-0.04,0.05,0.01]\n",
    "stan_konta = 50000\n",
    "kwota_zysku = 0\n",
    "\n",
    "for zysk_na_rok in zyski_na_rok:\n",
    "    kwota_zysku = stan_konta * zysk_na_rok\n",
    "    stan_konta = kwota_zysku + stan_konta\n",
    "    \n",
    "    print(stan_konta)"
   ]
  }
 ],
 "metadata": {
  "kernelspec": {
   "display_name": ".venv",
   "language": "python",
   "name": "python3"
  },
  "language_info": {
   "codemirror_mode": {
    "name": "ipython",
    "version": 3
   },
   "file_extension": ".py",
   "mimetype": "text/x-python",
   "name": "python",
   "nbconvert_exporter": "python",
   "pygments_lexer": "ipython3",
   "version": "3.12.3"
  }
 },
 "nbformat": 4,
 "nbformat_minor": 5
}
