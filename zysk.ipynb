{
 "cells": [
  {
   "cell_type": "code",
   "execution_count": 16,
   "id": "e30bdf79",
   "metadata": {},
   "outputs": [
    {
     "name": "stdout",
     "output_type": "stream",
     "text": [
      "52500.0\n",
      "55125.0\n",
      "57881.25\n",
      "60775.3125\n",
      "63814.078125\n"
     ]
    }
   ],
   "source": [
    "zysk_na_rok = 0.05\n",
    "stan_konta = 50000\n",
    "kwota_zysku = 0\n",
    "\n",
    "for kupa in range(5):\n",
    "    kwota_zysku = stan_konta * zysk_na_rok\n",
    "    stan_konta = kwota_zysku + stan_konta\n",
    "    print(stan_konta)"
   ]
  }
 ],
 "metadata": {
  "kernelspec": {
   "display_name": ".venv",
   "language": "python",
   "name": "python3"
  },
  "language_info": {
   "codemirror_mode": {
    "name": "ipython",
    "version": 3
   },
   "file_extension": ".py",
   "mimetype": "text/x-python",
   "name": "python",
   "nbconvert_exporter": "python",
   "pygments_lexer": "ipython3",
   "version": "3.12.3"
  }
 },
 "nbformat": 4,
 "nbformat_minor": 5
}
